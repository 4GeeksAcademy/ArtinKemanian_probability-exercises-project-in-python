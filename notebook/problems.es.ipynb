{
 "cells": [
  {
   "cell_type": "markdown",
   "id": "a41f3622",
   "metadata": {},
   "source": [
    "# Ejercicios de probabilidad"
   ]
  },
  {
   "cell_type": "markdown",
   "id": "a6bdbd89",
   "metadata": {},
   "source": [
    "## Ejercicio 1 \n",
    "\n",
    "Dos dados se lanzan una vez y se observa el total obtenido. Usa una simulación para encontrar la probabilidad estimada de que la puntuación sea mayor a 7 o un número par. Una simulación es una repetición del mismo experimento multiples veces para observar su comportamiento:\n",
    "\n",
    "- Ejecuta el experimento 1000 veces (lanza 2 dados 1000 veces, y suma el número de ambos dados).\n",
    "- Lleva una cuenta de los números y las veces que la suma fue mayor a 7 o un número par.\n",
    "- Divide el número del paso 2 entre el número de iteraciones(1000)."
   ]
  },
  {
   "cell_type": "code",
   "execution_count": 58,
   "id": "cf7d373a",
   "metadata": {},
   "outputs": [],
   "source": [
    "import numpy as np"
   ]
  },
  {
   "cell_type": "code",
   "execution_count": 59,
   "id": "8939d892",
   "metadata": {},
   "outputs": [
    {
     "name": "stdout",
     "output_type": "stream",
     "text": [
      "71.0%\n"
     ]
    }
   ],
   "source": [
    "def tirada_dado(n = 1000):\n",
    "    \n",
    "    c = 0\n",
    "\n",
    "    for i in range(n):\n",
    "        \n",
    "        tirar_dados = np.random.randint(2,12)\n",
    "\n",
    "        if (tirar_dados > 7) or (tirar_dados % 2 == 0):\n",
    "            c += 1\n",
    "    \n",
    "    return c / n\n",
    "\n",
    "print(f\"{np.round(tirada_dado() * 100)}%\")"
   ]
  },
  {
   "cell_type": "markdown",
   "id": "55732bca",
   "metadata": {},
   "source": [
    "## Ejercicio 2\n",
    "\n",
    "Una caja contiene 10 bolas blancas, 20 bolas rojas y 30 bolas verdes. Si tomamos 5 bolas de la caja reemplazándolas (tomando una bola, anotando el color y luego regresandola a la caja). Queremos saber la probabilidad de:\n",
    "\n",
    "1. Tomar 3 blancas y 2 rojas.\n",
    "2. Todas todas del mismo color.\n",
    "\n",
    "Ejecuta el experimento 1000 veces y calcula las probabilidades que mencionadas."
   ]
  },
  {
   "cell_type": "code",
   "execution_count": 74,
   "id": "23244d20",
   "metadata": {},
   "outputs": [
    {
     "name": "stdout",
     "output_type": "stream",
     "text": [
      "{0: 'White', 1: 'White', 2: 'White', 3: 'White', 4: 'White', 5: 'White', 6: 'White', 7: 'White', 8: 'White', 9: 'White', 10: 'Red', 11: 'Red', 12: 'Red', 13: 'Red', 14: 'Red', 15: 'Red', 16: 'Red', 17: 'Red', 18: 'Red', 19: 'Red', 20: 'Red', 21: 'Red', 22: 'Red', 23: 'Red', 24: 'Red', 25: 'Red', 26: 'Red', 27: 'Red', 28: 'Red', 29: 'Red', 30: 'Green', 31: 'Green', 32: 'Green', 33: 'Green', 34: 'Green', 35: 'Green', 36: 'Green', 37: 'Green', 38: 'Green', 39: 'Green', 40: 'Green', 41: 'Green', 42: 'Green', 43: 'Green', 44: 'Green', 45: 'Green', 46: 'Green', 47: 'Green', 48: 'Green', 49: 'Green', 50: 'Green', 51: 'Green', 52: 'Green', 53: 'Green', 54: 'Green', 55: 'Green', 56: 'Green', 57: 'Green', 58: 'Green', 59: 'Green'}\n",
      "The probability of 3 white and 2 red is: 0.7%\n",
      "The probability of 3 white and 2 red is: 3.6%\n"
     ]
    }
   ],
   "source": [
    "ball_box = {}\n",
    "\n",
    "# Crea la cajas con las bolas\n",
    "for i in range(60):\n",
    "    if i < 10:\n",
    "        ball_box[i] = \"White\"\n",
    "    elif (i > 9) and (i < 30):\n",
    "        ball_box[i] = \"Red\"\n",
    "    else:\n",
    "        ball_box[i] = \"Green\"\n",
    "\n",
    "print(ball_box)\n",
    "            \n",
    "def caja_bolas_colores(n = 1000):\n",
    "\n",
    "    c1 = 0\n",
    "    c2 = 0\n",
    "\n",
    "    for i in range(n):\n",
    "\n",
    "        tomar_bolas = []\n",
    "\n",
    "        for i in range(5):\n",
    "            tomar_bolas.append(ball_box[np.random.randint(0, 59)])\n",
    "\n",
    "        tomar_bolas = np.array(tomar_bolas)\n",
    "\n",
    "        bolas_blancas = sum(tomar_bolas == \"White\")\n",
    "        bolas_rojas = sum(tomar_bolas == \"Red\")\n",
    "        bolas_verdes = sum(tomar_bolas == \"Green\")\n",
    "\n",
    "        if (bolas_blancas == 3) and (bolas_rojas == 2):\n",
    "            c1 += 1\n",
    "        \n",
    "        if (bolas_blancas == 5) or (bolas_rojas == 5) or (bolas_verdes == 5):\n",
    "            c2 += 1\n",
    "\n",
    "    return c1 / n, c2 / n\n",
    "\n",
    "probabilidad = caja_bolas_colores()\n",
    "\n",
    "print(f\"The probability of 3 white and 2 red is: {np.round(probabilidad[0] * 100, 2)}%\")\n",
    "print(f\"The probability of 3 white and 2 red is: {np.round(probabilidad[1] * 100, 2)}%\")"
   ]
  }
 ],
 "metadata": {
  "kernelspec": {
   "display_name": "Python 3",
   "language": "python",
   "name": "python3"
  },
  "language_info": {
   "codemirror_mode": {
    "name": "ipython",
    "version": 3
   },
   "file_extension": ".py",
   "mimetype": "text/x-python",
   "name": "python",
   "nbconvert_exporter": "python",
   "pygments_lexer": "ipython3",
   "version": "3.11.4"
  }
 },
 "nbformat": 4,
 "nbformat_minor": 5
}
